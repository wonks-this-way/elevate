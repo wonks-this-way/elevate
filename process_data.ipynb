{
 "cells": [
  {
   "cell_type": "code",
   "execution_count": 1,
   "metadata": {
    "ExecuteTime": {
     "end_time": "2016-08-21T19:04:27.650050",
     "start_time": "2016-08-21T19:04:27.273098"
    },
    "collapsed": false
   },
   "outputs": [],
   "source": [
    "import pandas as pd\n",
    "import numpy as np\n",
    "pd.set_option('precision', 2)\n",
    "pd.options.mode.chained_assignment = None\n",
    "pd.set_option('display.max_rows', 500)\n",
    "pd.set_option('display.max_columns', 500)\n",
    "pd.set_option('display.width', 1000)\n",
    "pd.options.display.max_colwidth = 100"
   ]
  },
  {
   "cell_type": "code",
   "execution_count": 2,
   "metadata": {
    "ExecuteTime": {
     "end_time": "2016-08-21T19:04:27.656321",
     "start_time": "2016-08-21T19:04:27.652317"
    },
    "collapsed": true
   },
   "outputs": [],
   "source": [
    "# helper function to clean variables\n",
    "def strip_spaces(x):\n",
    "    try:\n",
    "        clean_x = x.strip()\n",
    "        return clean_x\n",
    "    except:\n",
    "        return x"
   ]
  },
  {
   "cell_type": "code",
   "execution_count": 3,
   "metadata": {
    "ExecuteTime": {
     "end_time": "2016-08-21T19:04:27.705466",
     "start_time": "2016-08-21T19:04:27.658086"
    },
    "collapsed": false
   },
   "outputs": [],
   "source": [
    "# load data via pandas \n",
    "df = pd.read_excel(\"./tab9-6.xlsx\" , header=2)\n",
    "# clean up column names\n",
    "df.columns = [col.strip() for col in df.columns]\n",
    "# keep only the data we need for the visualization\n",
    "df = df.iloc[6:47,:]"
   ]
  },
  {
   "cell_type": "code",
   "execution_count": 4,
   "metadata": {
    "ExecuteTime": {
     "end_time": "2016-08-21T19:04:27.713094",
     "start_time": "2016-08-21T19:04:27.707173"
    },
    "collapsed": false
   },
   "outputs": [],
   "source": [
    "# strip white spaces\n",
    "df['Highest degree and occupation'] = df['Highest degree and occupation'].apply(lambda x: strip_spaces(x))\n",
    "\n",
    "# create some lists to make the data preprocessing easier\n",
    "rows_to_clean = df[df['Highest degree and occupation'] == 'Postsecondary teacher']['Highest degree and occupation'].index.tolist()\n",
    "science_categories = ['Biological/life scientist', 'Computer and information scientist', 'Mathematical scientist', 'Physical scientist', 'Psychologist', 'Social scientist', 'Engineering occupations']"
   ]
  },
  {
   "cell_type": "code",
   "execution_count": 5,
   "metadata": {
    "ExecuteTime": {
     "end_time": "2016-08-21T19:04:27.720977",
     "start_time": "2016-08-21T19:04:27.714811"
    },
    "collapsed": true
   },
   "outputs": [],
   "source": [
    "# rename some of the variables with names that arent visualization friendly \n",
    "for row, replacement_val in zip(rows_to_clean, science_categories):\n",
    "    df.loc[row, 'Highest degree and occupation'] = replacement_val + ' professor'"
   ]
  },
  {
   "cell_type": "code",
   "execution_count": 6,
   "metadata": {
    "ExecuteTime": {
     "end_time": "2016-08-21T19:04:27.729858",
     "start_time": "2016-08-21T19:04:27.722658"
    },
    "collapsed": false
   },
   "outputs": [],
   "source": [
    "# clean up dataframe by dropping rows with missing data\n",
    "df = df.dropna(subset=['Highest degree and occupation'])\n",
    "df = df.dropna(axis=1,how='all')\n",
    "df = df.dropna(axis=0,thresh=5)"
   ]
  },
  {
   "cell_type": "code",
   "execution_count": 7,
   "metadata": {
    "ExecuteTime": {
     "end_time": "2016-08-21T19:04:27.733202",
     "start_time": "2016-08-21T19:04:27.731249"
    },
    "collapsed": false,
    "scrolled": false
   },
   "outputs": [],
   "source": [
    "# breakdown = ['S&E-related occupations', 'Non-S&E occupations']"
   ]
  },
  {
   "cell_type": "code",
   "execution_count": 8,
   "metadata": {
    "ExecuteTime": {
     "end_time": "2016-08-21T19:04:27.740212",
     "start_time": "2016-08-21T19:04:27.734933"
    },
    "collapsed": false
   },
   "outputs": [],
   "source": [
    "# create occupation categories from the data\n",
    "occupations = []\n",
    "label = 'HEADER'\n",
    "for row in df['Highest degree and occupation']:\n",
    "    if row in science_categories:\n",
    "        label = row\n",
    "        occupations.append(label)\n",
    "    else:\n",
    "        occupations.append(label)\n",
    "        \n",
    "df['occupation'] = occupations"
   ]
  },
  {
   "cell_type": "code",
   "execution_count": 9,
   "metadata": {
    "ExecuteTime": {
     "end_time": "2016-08-21T19:04:27.754229",
     "start_time": "2016-08-21T19:04:27.741609"
    },
    "collapsed": false,
    "scrolled": false
   },
   "outputs": [],
   "source": [
    "# refacoting notes and assumptions\n",
    "# * = estimate < 500.\n",
    "# D = suppressed for data confidentiality reasons. \n",
    "# S = suppressed for reliability; coefficient of variation exceeds publication standards.\n",
    "\n",
    "# refactor * to 500\n",
    "df = df.replace('*', 500)\n",
    "# refactor supressed data to 100\n",
    "df = df.replace('D', 100)\n",
    "# refactor supressed data to np.nan\n",
    "df = df.replace('S', np.nan)\n",
    "# fill missing values as 0\n",
    "df = df.fillna(0)\n",
    "# add sequential count to keep track of headers\n",
    "df[\"sequential_count\"] = df.groupby(\"occupation\").cumcount() + 1"
   ]
  },
  {
   "cell_type": "code",
   "execution_count": 10,
   "metadata": {
    "ExecuteTime": {
     "end_time": "2016-08-21T19:04:27.759264",
     "start_time": "2016-08-21T19:04:27.755567"
    },
    "collapsed": false
   },
   "outputs": [],
   "source": [
    "# rename columns\n",
    "df.columns = ['Highest degree and occupation',\n",
    "              'All',\n",
    "              'Hispanic or Latino',\n",
    "              'American Indian or Alaska Native',\n",
    "              'Asian',\n",
    "              'Black or African American',\n",
    "              'Native Hawaiian or Other Pacific Islander',\n",
    "              'White',\n",
    "              'More than one race',\n",
    "              'occupation',\n",
    "              'sequential_count']"
   ]
  },
  {
   "cell_type": "code",
   "execution_count": 11,
   "metadata": {
    "ExecuteTime": {
     "end_time": "2016-08-21T19:04:27.770321",
     "start_time": "2016-08-21T19:04:27.760639"
    },
    "collapsed": false
   },
   "outputs": [],
   "source": [
    "# remove subset header -- it contains aggerated infomation per variable\n",
    "viz_df = df[df['sequential_count'] != 1].drop(['sequential_count'], axis=1)\n",
    "# restructure the data into long format for visualization\n",
    "viz_df = pd.melt(viz_df, id_vars=['Highest degree and occupation', 'occupation'], value_name='total')\n",
    "# save data to tsv\n",
    "viz_df.to_csv('./temp/data.tsv', sep='\\t', index=False)"
   ]
  },
  {
   "cell_type": "code",
   "execution_count": 12,
   "metadata": {
    "ExecuteTime": {
     "end_time": "2016-08-21T19:04:27.783095",
     "start_time": "2016-08-21T19:04:27.771772"
    },
    "collapsed": false
   },
   "outputs": [],
   "source": [
    "# open data data to convert thousands seperator into ints\n",
    "viz_df = pd.read_csv(\"./temp/data.tsv\",  sep='\\t', thousands=\",\")\n",
    "# rename columns for visualization\n",
    "viz_df.columns = ['Occupation', 'Category', 'Race', 'Total']\n",
    "# remove whitespace from Occupation column\n",
    "viz_df['Occupation'] = viz_df['Occupation'].apply(lambda x: x.strip())\n",
    "# rename variables for visualization\n",
    "viz_df['Occupation'] = viz_df['Occupation'].replace('Psychologist', 'Psychologists')\n",
    "viz_df['Occupation'] = viz_df['Occupation'].replace('Mathematical scientist', 'Mathematical scientists')\n",
    "# save data into project folder\n",
    "viz_df.to_csv(\"./project/data.tsv\", sep='\\t', index=False, encoding='utf-8')"
   ]
  }
 ],
 "metadata": {
  "kernelspec": {
   "display_name": "Python 3",
   "language": "python",
   "name": "python3"
  },
  "language_info": {
   "codemirror_mode": {
    "name": "ipython",
    "version": 3
   },
   "file_extension": ".py",
   "mimetype": "text/x-python",
   "name": "python",
   "nbconvert_exporter": "python",
   "pygments_lexer": "ipython3",
   "version": "3.5.1"
  },
  "latex_envs": {
   "bibliofile": "biblio.bib",
   "cite_by": "apalike",
   "current_citInitial": 1,
   "eqLabelWithNumbers": true,
   "eqNumInitial": 0
  }
 },
 "nbformat": 4,
 "nbformat_minor": 0
}
